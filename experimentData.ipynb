{
  "nbformat": 4,
  "nbformat_minor": 0,
  "metadata": {
    "colab": {
      "name": "experimentData.ipynb",
      "provenance": []
    },
    "kernelspec": {
      "display_name": "Python 3",
      "name": "python3"
    },
    "language_info": {
      "name": "python"
    }
  },
  "cells": [
    {
      "cell_type": "code",
      "metadata": {
        "id": "8gj7SeULL5n_"
      },
      "source": [
        ""
      ],
      "execution_count": null,
      "outputs": []
    },
    {
      "cell_type": "code",
      "metadata": {
        "colab": {
          "base_uri": "https://localhost:8080/"
        },
        "id": "9qP0VrulMNgu",
        "outputId": "11eeb137-908e-469b-843f-38e595743461"
      },
      "source": [
        "from google.colab import drive\n",
        "drive.mount('/content/drive')"
      ],
      "execution_count": null,
      "outputs": [
        {
          "name": "stdout",
          "output_type": "stream",
          "text": [
            "Drive already mounted at /content/drive; to attempt to forcibly remount, call drive.mount(\"/content/drive\", force_remount=True).\n"
          ]
        }
      ]
    },
    {
      "cell_type": "code",
      "metadata": {
        "colab": {
          "base_uri": "https://localhost:8080/"
        },
        "id": "z4rlVnK0MsuM",
        "outputId": "55d80ecf-b67f-4235-fe2c-d2a8804c8424"
      },
      "source": [
        "!ls ./drive/MyDrive/2020VIP_ThermalCamera/'Experiment Data'"
      ],
      "execution_count": null,
      "outputs": [
        {
          "name": "stdout",
          "output_type": "stream",
          "text": [
            "amit_frame_samples.zip\t    Participant_Ipek.zip\n",
            "auckland-ntlx-datas.zip     Participant_Vero.zip\n",
            "Esen_Exp1.zip\t\t    Participant_Yago.zip\n",
            "Esen_trial2-1617093859.zip  psk_seek_frame_samples-1620187629.zip\n",
            "Participant_Carlos.zip\t    riti_frame_samples.zip\n",
            "Participant_Carlota.zip     rosina_seek_frame_samples-1620973965.zip\n",
            "Participant_Diana.zip\t    ryo_seek_frame_samples.zip\n",
            "Participant_Esen.zip\n"
          ]
        }
      ]
    },
    {
      "cell_type": "code",
      "metadata": {
        "colab": {
          "base_uri": "https://localhost:8080/"
        },
        "id": "7_IQdG6_NUbq",
        "outputId": "f712f50a-b0c4-420a-8226-8f21de10aff5"
      },
      "source": [
        "!rm -d -r ./data/\n",
        "!mkdir ./data/"
      ],
      "execution_count": null,
      "outputs": [
        {
          "name": "stdout",
          "output_type": "stream",
          "text": [
            "rm: cannot remove './data/': No such file or directory\n"
          ]
        }
      ]
    },
    {
      "cell_type": "code",
      "metadata": {
        "colab": {
          "base_uri": "https://localhost:8080/"
        },
        "id": "-uRgix8zNXbC",
        "outputId": "1c8f22fc-12db-4632-b651-9cb3ba995661"
      },
      "source": [
        "!cp ./drive/MyDrive/2020VIP_ThermalCamera/'Experiment Data'/Participant_Ipek.zip ./data/"
      ],
      "execution_count": null,
      "outputs": [
        {
          "name": "stdout",
          "output_type": "stream",
          "text": [
            "^C\n"
          ]
        }
      ]
    },
    {
      "cell_type": "code",
      "metadata": {
        "colab": {
          "base_uri": "https://localhost:8080/"
        },
        "id": "I5HCHozBxoEI",
        "outputId": "398018a1-e604-4841-ba73-0e1d2ec20890"
      },
      "source": [
        "!wget -c -O p1.zip https://doc-10-0g-docs.googleusercontent.com/docs/securesc/bvk4ei0m4oi52qfs1q7ce2m0s7ega469/i4tct9vgmjflieqqijado4dgj9asb4dm/1620927000000/03176099319045035237/06339246367364238366/18U-3vBJbkP_3cUh6kOWKCNaMI7wRi030?e=download&authuser=1&nonce=odob5mj35v8fu&user=06339246367364238366&hash=u85prrb7agul01qanhbf013t6jjr85tk"
      ],
      "execution_count": null,
      "outputs": [
        {
          "name": "stdout",
          "output_type": "stream",
          "text": [
            "--2021-06-28 18:13:05--  https://doc-10-0g-docs.googleusercontent.com/docs/securesc/bvk4ei0m4oi52qfs1q7ce2m0s7ega469/i4tct9vgmjflieqqijado4dgj9asb4dm/1620927000000/03176099319045035237/06339246367364238366/18U-3vBJbkP_3cUh6kOWKCNaMI7wRi030?e=download\n",
            "Resolving doc-10-0g-docs.googleusercontent.com (doc-10-0g-docs.googleusercontent.com)... 172.217.13.225, 2607:f8b0:4004:809::2001\n",
            "Connecting to doc-10-0g-docs.googleusercontent.com (doc-10-0g-docs.googleusercontent.com)|172.217.13.225|:443... connected.\n",
            "HTTP request sent, awaiting response... 403 Forbidden\n",
            "2021-06-28 18:13:05 ERROR 403: Forbidden.\n",
            "\n"
          ]
        }
      ]
    },
    {
      "cell_type": "code",
      "metadata": {
        "colab": {
          "base_uri": "https://localhost:8080/"
        },
        "id": "4Xh0ORWYyVg-",
        "outputId": "af0e9f8e-77ef-4c33-dbc3-6fa3a41c2f53"
      },
      "source": [
        "!pip install gdown\n",
        "\n",
        "#!gdown --id 18U-3vBJbkP_3cUh6kOWKCNaMI7wRi030\n",
        "#!gdown --id 138IceG3dsZRSVtYWDt_6DJVsTtreEM3i\n",
        "#!gdown --id 1zdmrMzzTICXb551SPQRmjI671E6p7r0_\n",
        "#!gdown --id 1w6iuYpoYjarBv2IbpzR4rtRIAb49hWAU\n",
        "!gdown --id 1DOZfHKsQiSAkkgfXBu22f_3-XSyxV6T3\n",
        "!gdown --id 1EdQrjst5148mFPNginmX_vZhoHrx4VzI\n",
        "!gdown --id 1F4E8_mwvYrnc3HqemygmGbz8QeGnI_ks\n",
        "!gdown --id 1KqyOhN-dty-DJw6TocmzF3C7uc52bjMG"
      ],
      "execution_count": null,
      "outputs": [
        {
          "name": "stdout",
          "output_type": "stream",
          "text": [
            "Requirement already satisfied: gdown in /usr/local/lib/python3.7/dist-packages (3.6.4)\n",
            "Requirement already satisfied: requests in /usr/local/lib/python3.7/dist-packages (from gdown) (2.23.0)\n",
            "Requirement already satisfied: tqdm in /usr/local/lib/python3.7/dist-packages (from gdown) (4.41.1)\n",
            "Requirement already satisfied: six in /usr/local/lib/python3.7/dist-packages (from gdown) (1.15.0)\n",
            "Requirement already satisfied: chardet<4,>=3.0.2 in /usr/local/lib/python3.7/dist-packages (from requests->gdown) (3.0.4)\n",
            "Requirement already satisfied: urllib3!=1.25.0,!=1.25.1,<1.26,>=1.21.1 in /usr/local/lib/python3.7/dist-packages (from requests->gdown) (1.24.3)\n",
            "Requirement already satisfied: idna<3,>=2.5 in /usr/local/lib/python3.7/dist-packages (from requests->gdown) (2.10)\n",
            "Requirement already satisfied: certifi>=2017.4.17 in /usr/local/lib/python3.7/dist-packages (from requests->gdown) (2021.5.30)\n",
            "Downloading...\n",
            "From: https://drive.google.com/uc?id=1DOZfHKsQiSAkkgfXBu22f_3-XSyxV6T3\n",
            "To: /content/rosina_seek_frame_samples-1620973965.zip\n",
            "738MB [00:08, 85.1MB/s]\n",
            "Downloading...\n",
            "From: https://drive.google.com/uc?id=1EdQrjst5148mFPNginmX_vZhoHrx4VzI\n",
            "To: /content/Participant_Diana.zip\n",
            "460MB [00:22, 20.3MB/s]\n",
            "Downloading...\n",
            "From: https://drive.google.com/uc?id=1F4E8_mwvYrnc3HqemygmGbz8QeGnI_ks\n",
            "To: /content/amit_frame_samples.zip\n",
            "699MB [00:12, 55.3MB/s]\n",
            "Downloading...\n",
            "From: https://drive.google.com/uc?id=1KqyOhN-dty-DJw6TocmzF3C7uc52bjMG\n",
            "To: /content/Participant_Esen.zip\n",
            "467MB [00:20, 23.2MB/s]\n"
          ]
        }
      ]
    },
    {
      "cell_type": "code",
      "metadata": {
        "colab": {
          "base_uri": "https://localhost:8080/"
        },
        "id": "stsXYB3ozeK8",
        "outputId": "e0ead28c-a8e0-4662-cc07-12bf4b03fe68"
      },
      "source": [
        "!unzip ./rosina_seek_frame_samples-1620973965.zip\n",
        "!unzip ./Participant_Diana.zip\n",
        "!unzip ./amit_frame_samples.zip\n",
        "!unzip ./Participant_Esen.zip"
      ],
      "execution_count": null,
      "outputs": [
        {
          "name": "stdout",
          "output_type": "stream",
          "text": [
            "Archive:  ./rosina_seek_frame_samples-1620973965.zip\n",
            "replace rosina_seek_frame_samples-1620973965/frame_007888.jpg? [y]es, [n]o, [A]ll, [N]one, [r]ename: N\n",
            "Archive:  ./Participant_Diana.zip\n",
            "replace Participant_Diana/.DS_Store? [y]es, [n]o, [A]ll, [N]one, [r]ename: N\n",
            "Archive:  ./amit_frame_samples.zip\n",
            "replace amit_frame_samples/frame_007888.jpg? [y]es, [n]o, [A]ll, [N]one, [r]ename: N\n",
            "Archive:  ./Participant_Esen.zip\n",
            "replace Participant_Esen/.DS_Store? [y]es, [n]o, [A]ll, [N]one, [r]ename: N\n"
          ]
        }
      ]
    },
    {
      "cell_type": "code",
      "metadata": {
        "id": "apdXg7T2F-sp"
      },
      "source": [
        "!rm -d -rf ./samples/seek_frame_samples-1622894282"
      ],
      "execution_count": null,
      "outputs": []
    },
    {
      "cell_type": "code",
      "metadata": {
        "colab": {
          "base_uri": "https://localhost:8080/"
        },
        "id": "NnQkZTaTSLaA",
        "outputId": "7377ff1c-ebd3-49ce-f979-a639b6f57690"
      },
      "source": [
        "!rm -d -f ./samples\n",
        "!mkdir samples\n",
        "\n",
        "!cp -r ./Participant_/seek_* ./samples/\n",
        "!cp -r ./Participant_Esen/seek_frame_samples* ./samples/\n",
        "!cp -r ./Participant_Diana/seek_frame_samples* ./samples/\n",
        "!cp -r ./*_seek_frame_samples* ./samples/"
      ],
      "execution_count": null,
      "outputs": [
        {
          "name": "stdout",
          "output_type": "stream",
          "text": [
            "cp: cannot stat './Participant_/seek_*': No such file or directory\n"
          ]
        }
      ]
    },
    {
      "cell_type": "markdown",
      "metadata": {
        "id": "W4IFIRmIyeVY"
      },
      "source": [
        ""
      ]
    },
    {
      "cell_type": "code",
      "metadata": {
        "id": "julMXbSf1qvb"
      },
      "source": [
        "%tensorflow_version 2.x"
      ],
      "execution_count": null,
      "outputs": []
    },
    {
      "cell_type": "code",
      "metadata": {
        "id": "gUbUFvXE6yiv"
      },
      "source": [
        "from tensorflow.keras.models import Sequential\n",
        "from tensorflow.keras.layers import Dense, Dropout, Flatten\n",
        "from tensorflow.keras.layers import Conv2D\n",
        "from tensorflow.keras.optimizers import Adam\n",
        "from tensorflow.keras.layers import MaxPooling2D\n",
        "from tensorflow.keras.preprocessing.image import ImageDataGenerator\n",
        "\n",
        "SIZE_X = int(1024 / 8)\n",
        "SIZE_Y = int(768 / 8)\n",
        "\n",
        "model_face = Sequential()\n",
        "model_face.add(Conv2D(32, (2, 2), padding = 'same', activation='tanh', input_shape=(SIZE_Y, SIZE_X, 1)))\n",
        "\n",
        "model_face.add(Conv2D(32, (2, 2), activation='relu'))\n",
        "model_face.add(MaxPooling2D(pool_size=(2, 2)))\n",
        "#model3.add(Dropout(0.5))\n",
        "model_face.add(Conv2D(64, (3, 3), activation='tanh'))\n",
        "#model3.add(Dropout(0.5))\n",
        "model_face.add(Conv2D(64, (3, 3), activation='tanh'))\n",
        "model_face.add(MaxPooling2D(pool_size=(2, 2)))\n",
        "model_face.add(Conv2D(128, (3, 3), activation='relu'))\n",
        "model_face.add(Conv2D(128, (3, 3), activation='tanh'))\n",
        "model_face.add(MaxPooling2D(pool_size=(2, 2)))\n",
        "model_face.add(Conv2D(256, (3, 3), activation='tanh'))\n",
        "model_face.add(Conv2D(256, (5, 5), activation='relu'))\n",
        "model_face.add(Dropout(0.5))\n",
        "\n",
        "model_face.add(Flatten())\n",
        "model_face.add(Dense(512, activation='relu'))\n",
        "#model3.add(Dropout(0.5))\n",
        "model_face.add(Dense(4, activation='sigmoid'))\n",
        "\n",
        "\n",
        "model_face.load_weights('./modelnew_augmentedData_best.h5')"
      ],
      "execution_count": null,
      "outputs": []
    },
    {
      "cell_type": "code",
      "metadata": {
        "colab": {
          "base_uri": "https://localhost:8080/",
          "height": 35
        },
        "id": "VLKMaLjTzf4n",
        "outputId": "3e6fd90a-2b06-4294-c9d1-b91e6fb99a07"
      },
      "source": [
        "import tensorflow as tf\n",
        "tf.__version__"
      ],
      "execution_count": null,
      "outputs": [
        {
          "data": {
            "application/vnd.google.colaboratory.intrinsic+json": {
              "type": "string"
            },
            "text/plain": [
              "'2.5.0'"
            ]
          },
          "execution_count": 8,
          "metadata": {
            "tags": []
          },
          "output_type": "execute_result"
        }
      ]
    },
    {
      "cell_type": "code",
      "metadata": {
        "colab": {
          "base_uri": "https://localhost:8080/",
          "height": 400
        },
        "id": "SMcVZkx3q4T5",
        "outputId": "9bad79e1-24e8-4fc6-f927-ae147c7ccb92"
      },
      "source": [
        "from tensorflow.keras import regularizers\n",
        "from tensorflow.keras import backend as K\n",
        "from keras.layers import Dense, Dropout, Flatten, Conv2D, MaxPool2D\n",
        "\n",
        "\n",
        "model3 = Sequential()\n",
        "model3.add(Conv2D(32, (2, 2), padding = 'same', activation='tanh', input_shape=(50, 50, 1)))\n",
        "\n",
        "model3.add(Conv2D(32, (2, 2), activation='relu'))\n",
        "model3.add(MaxPool2D(pool_size=(2, 2)))\n",
        "model3.add(Dropout(0.5))\n",
        "model3.add(Conv2D(64, (3, 3), activation='tanh'))\n",
        "model3.add(Dropout(0.5))\n",
        "model3.add(Conv2D(64, (3, 3), activation='tanh'))\n",
        "model3.add(MaxPool2D(pool_size=(2, 2)))\n",
        "model3.add(Conv2D(128, (3, 3), activation='relu'))\n",
        "model3.add(Conv2D(128, (3, 3), activation='tanh'))\n",
        "model3.add(MaxPool2D(pool_size=(2, 2)))\n",
        "\n",
        "#model3.add(Conv2D(256, (5, 5), activation='sigmoid'))\n",
        "\n",
        "\n",
        "\n",
        "model3.add(Flatten())\n",
        "model3.add(Dense(512, activation='relu'))\n",
        "model3.add(Dropout(0.5))\n",
        "model3.add(Dense(68 * 2, activation='tanh'))\n",
        "\n",
        "sgd = Adam(lr=1e-4)\n",
        "model3.load_weights('./keypointsCNN_bbox.h5')"
      ],
      "execution_count": null,
      "outputs": [
        {
          "name": "stderr",
          "output_type": "stream",
          "text": [
            "/usr/local/lib/python3.7/dist-packages/tensorflow/python/keras/optimizer_v2/optimizer_v2.py:375: UserWarning: The `lr` argument is deprecated, use `learning_rate` instead.\n",
            "  \"The `lr` argument is deprecated, use `learning_rate` instead.\")\n"
          ]
        },
        {
          "ename": "ValueError",
          "evalue": "ignored",
          "output_type": "error",
          "traceback": [
            "\u001b[0;31m---------------------------------------------------------------------------\u001b[0m",
            "\u001b[0;31mValueError\u001b[0m                                Traceback (most recent call last)",
            "\u001b[0;32m<ipython-input-10-e6832ca9376f>\u001b[0m in \u001b[0;36m<module>\u001b[0;34m()\u001b[0m\n\u001b[1;32m     28\u001b[0m \u001b[0;34m\u001b[0m\u001b[0m\n\u001b[1;32m     29\u001b[0m \u001b[0msgd\u001b[0m \u001b[0;34m=\u001b[0m \u001b[0mAdam\u001b[0m\u001b[0;34m(\u001b[0m\u001b[0mlr\u001b[0m\u001b[0;34m=\u001b[0m\u001b[0;36m1e-4\u001b[0m\u001b[0;34m)\u001b[0m\u001b[0;34m\u001b[0m\u001b[0;34m\u001b[0m\u001b[0m\n\u001b[0;32m---> 30\u001b[0;31m \u001b[0mmodel3\u001b[0m\u001b[0;34m.\u001b[0m\u001b[0mload_weights\u001b[0m\u001b[0;34m(\u001b[0m\u001b[0;34m'./keypointsCNN_bbox.h5'\u001b[0m\u001b[0;34m)\u001b[0m\u001b[0;34m\u001b[0m\u001b[0;34m\u001b[0m\u001b[0m\n\u001b[0m",
            "\u001b[0;32m/usr/local/lib/python3.7/dist-packages/tensorflow/python/keras/engine/training.py\u001b[0m in \u001b[0;36mload_weights\u001b[0;34m(self, filepath, by_name, skip_mismatch, options)\u001b[0m\n\u001b[1;32m   2313\u001b[0m     \u001b[0;32mif\u001b[0m \u001b[0;32mnot\u001b[0m \u001b[0mself\u001b[0m\u001b[0;34m.\u001b[0m\u001b[0m_is_graph_network\u001b[0m \u001b[0;32mand\u001b[0m \u001b[0;32mnot\u001b[0m \u001b[0mself\u001b[0m\u001b[0;34m.\u001b[0m\u001b[0mbuilt\u001b[0m\u001b[0;34m:\u001b[0m\u001b[0;34m\u001b[0m\u001b[0;34m\u001b[0m\u001b[0m\n\u001b[1;32m   2314\u001b[0m       raise ValueError(\n\u001b[0;32m-> 2315\u001b[0;31m           \u001b[0;34m'Unable to load weights saved in HDF5 format into a subclassed '\u001b[0m\u001b[0;34m\u001b[0m\u001b[0;34m\u001b[0m\u001b[0m\n\u001b[0m\u001b[1;32m   2316\u001b[0m           \u001b[0;34m'Model which has not created its variables yet. Call the Model '\u001b[0m\u001b[0;34m\u001b[0m\u001b[0;34m\u001b[0m\u001b[0m\n\u001b[1;32m   2317\u001b[0m           'first, then load the weights.')\n",
            "\u001b[0;31mValueError\u001b[0m: Unable to load weights saved in HDF5 format into a subclassed Model which has not created its variables yet. Call the Model first, then load the weights."
          ]
        }
      ]
    },
    {
      "cell_type": "code",
      "metadata": {
        "id": "LpJVJ98LTAbT"
      },
      "source": [
        "import numpy as np\n",
        "import cv2\n",
        "import pandas as pd\n",
        "import glob\n",
        "import matplotlib.pyplot as plt\n",
        "\n",
        "SIZE_X = int(1024 / 8)\n",
        "SIZE_Y = int(768 / 8)\n",
        "\n",
        "mean_kp = np.load('mean_kp.npy')\n",
        "\n",
        "def face_detect_prepoccess(filename, viz = False):\n",
        "    img = cv2.imread(filename, 0)\n",
        "    #print(img.min())\n",
        "    #print(img.max())\n",
        "    h, w = img.shape\n",
        "    thermal_frame_small = cv2.resize(img / 255, (128, 96))\n",
        "    #print(thermal_frame_small.shape)\n",
        "    if viz:\n",
        "      plt.imshow(thermal_frame_small)\n",
        "      plt.show()\n",
        "    prediction = model_face.predict(np.reshape(thermal_frame_small, (1, 96, 128, 1)))[0]\n",
        "    #print(prediction)\n",
        "    x1 = int(prediction[0] * 128)\n",
        "    x2 = int((prediction[1] * 128))\n",
        "    y1 = int(prediction[2] * 96)\n",
        "    y2 = int((prediction[3] * 96))\n",
        "            \n",
        "    new_img = thermal_frame_small * 255\n",
        "    cv2.rectangle(new_img, (x1, y1), (x2 - x1, y2 - y1), 255, 2)\n",
        "    if viz:\n",
        "      plt.imshow(new_img)\n",
        "      plt.show()\n",
        "\n",
        "    current_image = thermal_frame_small\n",
        "    img = Image.fromarray(current_image)\n",
        "    img = img.crop(box = (x1, y1, x2, y2))\n",
        "    img = img.resize((50, 50))\n",
        "    img_as_array = np.array(img)\n",
        "    img_as_array2 = np.reshape(img_as_array, (1, 50, 50, 1))\n",
        "    \n",
        "\n",
        "    '''\n",
        "    w = abs(x2 - x1) * SIZE_X\n",
        "    h = abs(y2 - y1) * SIZE_Y\n",
        "\n",
        "    key_points = model3.predict(img_as_array2)[0] + mean_kp\n",
        "    key_points[:68] = key_points[:68] * 50\n",
        "    key_points[68:] = key_points[68:] * 50\n",
        "    \n",
        "    \n",
        "    if viz:\n",
        "      plt.imshow(img_as_array)\n",
        "      plt.scatter(key_points[:68], key_points[68:], s = 10, color = 'white')\n",
        "    x = np.clip(np.floor(key_points[:68]), 0, 49).astype(int)\n",
        "    y = np.clip(np.floor(key_points[68:]), 0, 49).astype(int)\n",
        "    \n",
        "    temps = img_as_array[y, x]\n",
        "    img_as_array[y, x] = 0\n",
        "\n",
        "    if viz:\n",
        "      plt.show()\n",
        "\n",
        "      plt.imshow(img_as_array)\n",
        "      plt.show()\n",
        "    '''\n",
        "\n",
        "    return img_as_array #, temps \n",
        "    \n"
      ],
      "execution_count": null,
      "outputs": []
    },
    {
      "cell_type": "code",
      "metadata": {
        "colab": {
          "background_save": true,
          "base_uri": "https://localhost:8080/",
          "height": 1000
        },
        "id": "-smCBxOvVgMa",
        "outputId": "c4928001-5715-4433-9880-e84a1234ea98"
      },
      "source": [
        "import glob \n",
        "import random\n",
        "import numpy as np\n",
        "import pandas as pd\n",
        "from PIL import Image\n",
        "\n",
        "\n",
        "\n",
        "baseline_frames = 60\n",
        "samples = glob.glob('./samples/*')\n",
        "print(samples)\n",
        "\n",
        "X = []\n",
        "labels = []\n",
        "subjects = []\n",
        "baselines = [np.zeros((60, 68)) for i in range(len(samples))]\n",
        "\n",
        "LABEL_MAP = sorted(['HCLHV', 'HCLLV', 'LCLLV', 'LCLHV'])\n",
        "\n",
        "SAMPLES_PER_SEC = 1\n",
        "WINDOW = 1\n",
        "\n",
        "\n",
        "\n",
        "\n",
        "for sam in samples:\n",
        "  if sam.endswith(\".zip\"):\n",
        "    continue\n",
        "  id = samples.index(sam)\n",
        "  \n",
        "  df = pd.read_csv(sam + \"/frame_log.csv\")\n",
        "\n",
        "  df['system_timestamp_millis'] = df['system_timestamp_millis'] - df['system_timestamp_millis'].min() \n",
        "  \n",
        "\n",
        "  df.sort_values(by = ['system_timestamp_millis'], inplace = True)  \n",
        "  practice_data = df[df['study_state'] == \"PRACTICE\"]\n",
        "  frames = practice_data['frame_file_name'][practice_data['frame_file_name'] != \"-\"]\n",
        "\n",
        "  print(f\"Computing Baselines for {sam}.....\")\n",
        "  if len(frames) > baseline_frames:\n",
        "    select_frames = np.random.choice(frames, size = baseline_frames, replace = False)\n",
        "    for i in range(baseline_frames):\n",
        "      print(select_frames[i])\n",
        "      face_detect_prepoccess(sam + '/' + select_frames[i], True)\n",
        "      #baselines[id][i] = face_detect_prepoccess(sam + '/' + select_frames[i], False)[1]\n",
        "  else:\n",
        "    print(\"ERROR\")\n",
        "  print(f\"Computing Baselines for {sam}.....DONE\")\n",
        "\n",
        "\n",
        "  for group, data in df.groupby('study_state'):\n",
        "    \n",
        "    if group in LABEL_MAP:\n",
        "      print('at ', group)\n",
        "      label = LABEL_MAP.index(group)\n",
        "      data['system_timestamp_millis'] = data['system_timestamp_millis'] - data['system_timestamp_millis'].min()\n",
        "      data['time'] = (pd.to_datetime(data['system_timestamp_millis'], unit = 'ms')).dt.time\n",
        "      data['sec'] = (data['system_timestamp_millis'] // 1000)\n",
        "      data['min'] = data['sec'] // 60\n",
        "      data['sec'] = data['sec'] % 60\n",
        "      start, end = data['min'].min(), data['min'].max()\n",
        "      \n",
        "      number_of_windows = len(list(range(start, end +1, WINDOW)))\n",
        "      print(f'found {number_of_windows} windows', start, end)\n",
        "      for current in range(number_of_windows):\n",
        "        start = current * WINDOW\n",
        "        end = (current+1) * WINDOW\n",
        "        selected_data = data[np.logical_and(data['min'] >= start, data['min'] < end)]\n",
        "        frames = data['frame_file_name'][data['frame_file_name'] != \"-\"]\n",
        "        if len(frames) < SAMPLES_PER_SEC * 60 * WINDOW:\n",
        "          continue\n",
        "        temps_for_window = np.zeros((SAMPLES_PER_SEC * 60 * WINDOW, 68))\n",
        "        select_frames = np.random.choice(frames, size = SAMPLES_PER_SEC * 60 * WINDOW, replace = False)\n",
        "        for k in range(len(select_frames)):\n",
        "          print(select_frames[k])\n",
        "          face_detect_prepoccess(sam + '/' + select_frames[k], True)\n",
        "          #temps_for_window[k] = face_detect_prepoccess(sam + '/' + select_frames[k], False)[1]\n",
        "\n",
        "        X.append(temps_for_window)\n",
        "        labels.append(label)\n",
        "        subjects.append(id)\n",
        "        \n",
        "\n",
        "        '''\n",
        "        c_win = 0\n",
        "        for c_min in range(start, end):\n",
        "          for c_sec in range(0, 60):\n",
        "            window_data = data[np.logical_and(data['sec'] == c_sec, data['min'] == c_min)]\n",
        "            frames = window_data['frame_file_name'][window_data['frame_file_name'] != \"-\"]\n",
        "            if not len(frames.index):\n",
        "              continue\n",
        "            select_frames = np.random.choice(frames, size = 1, replace = False)\n",
        "            temps_for_window[(c_win * 60) + c_sec] = face_detect_prepoccess(sam + '/' + select_frames[0], False)[1]\n",
        "          c_win += 1\n",
        "        '''\n",
        "        \n",
        "\n",
        "\n",
        "      '''\n",
        "\n",
        "\n",
        "      frames = data['frame_file_name'][data['frame_file_name'] != \"-\"]\n",
        "      if len(frames) > baseline_frames:\n",
        "        select_frames = np.random.choice(frames, size = baseline_frames, replace = False)\n",
        "        for file in select_frames:\n",
        "          face_detect_prepoccess(sam + '/' +file, True)\n",
        "\n",
        "      '''\n",
        "\n",
        "\n",
        "\n",
        "  \n",
        "\n"
      ],
      "execution_count": null,
      "outputs": []
    },
    {
      "cell_type": "code",
      "metadata": {
        "id": "ewJJIa7zDZgF"
      },
      "source": [
        "print(len(X))\n",
        "print(labels)"
      ],
      "execution_count": null,
      "outputs": []
    }
  ]
}